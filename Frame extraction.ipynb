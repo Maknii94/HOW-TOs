{
 "cells": [
  {
   "cell_type": "markdown",
   "metadata": {},
   "source": [
    "# Frames extraction notebook"
   ]
  },
  {
   "cell_type": "code",
   "execution_count": 1,
   "metadata": {},
   "outputs": [],
   "source": [
    "import cv2\n",
    "import glob"
   ]
  },
  {
   "cell_type": "code",
   "execution_count": null,
   "metadata": {},
   "outputs": [
    {
     "name": "stdout",
     "output_type": "stream",
     "text": [
      "IMG_1581.MOV\n",
      "IMG_1582.MOV\n"
     ]
    }
   ],
   "source": [
    "# TODO: write a list with video extensions to look for in a directory\n",
    "# TODO: write a function to extract frames from just one video\n",
    "# TODO: add a parser to extract from files or iterate over a directory\n",
    "# TODO: add a parser to specify extractions rate\n",
    "# TODO: add a parser to specify the output directory\n",
    "# TODO: change the notebook to a script and write dev and use guide as README.md\n",
    "\n",
    "video_list = glob.glob(\"*.MOV\")\n",
    "vid = 3 # TODO: change it to the video name\n",
    "capture_rate = 100\n",
    "for video in video_list:\n",
    "    print(video)\n",
    "    counter = 0\n",
    "    cap = cv2.VideoCapture(video)\n",
    "\n",
    "    while(cap.isOpened()):\n",
    "        try:\n",
    "            ret, frame = cap.read()\n",
    "            cv2.imshow('frame',frame)\n",
    "            if cv2.waitKey(1) & 0xFF == ord('q'):\n",
    "                break\n",
    "            counter += 1\n",
    "            if counter%capture_rate==0:\n",
    "                cv2.imwrite(f\"images/{vid}_frame{counter}.jpg\", frame)\n",
    "        except:\n",
    "            cap.release()\n",
    "            cv2.destroyAllWindows()\n",
    "            break\n",
    "\n",
    "    cap.release()\n",
    "    cv2.destroyAllWindows()\n",
    "    vid +=1"
   ]
  },
  {
   "cell_type": "code",
   "execution_count": null,
   "metadata": {},
   "outputs": [],
   "source": []
  }
 ],
 "metadata": {
  "kernelspec": {
   "display_name": "Python 3",
   "language": "python",
   "name": "python3"
  },
  "language_info": {
   "codemirror_mode": {
    "name": "ipython",
    "version": 3
   },
   "file_extension": ".py",
   "mimetype": "text/x-python",
   "name": "python",
   "nbconvert_exporter": "python",
   "pygments_lexer": "ipython3",
   "version": "3.8.5"
  }
 },
 "nbformat": 4,
 "nbformat_minor": 4
}
