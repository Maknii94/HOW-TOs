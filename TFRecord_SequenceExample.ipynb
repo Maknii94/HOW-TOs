{
 "cells": [
  {
   "cell_type": "code",
   "execution_count": 1,
   "metadata": {},
   "outputs": [],
   "source": [
    "import tensorflow as tf\n",
    "import numpy as np"
   ]
  },
  {
   "cell_type": "code",
   "execution_count": 2,
   "metadata": {},
   "outputs": [],
   "source": [
    "first_seq = np.array([[1.2, 2.0], [3.7, 1.0] , [2.3, 1.7]], dtype = np.float64)\n",
    "second_seq = np.array([[1.3, 1.9], [3.6, 1.1] , [2.4, 1.8]], dtype = np.float64)"
   ]
  },
  {
   "cell_type": "code",
   "execution_count": 3,
   "metadata": {},
   "outputs": [
    {
     "name": "stdout",
     "output_type": "stream",
     "text": [
      "[7.32421875e-05 1.22070312e-04] [7.93457031e-05 1.15966797e-04]\n",
      "[2.25830078e-04 6.10351562e-05] [2.19726563e-04 6.71386719e-05]\n",
      "[0.00014038 0.00010376] [0.00014648 0.00010986]\n"
     ]
    }
   ],
   "source": [
    "for seq_clean, seq_noisy in zip(first_seq, second_seq):\n",
    "    print(seq_clean/2**14, seq_noisy/2**14)\n",
    "    tf_seq_ex = tf.train.SequenceExample(feature_lists=tf.train.FeatureLists(feature_list={\n",
    "    'clean': tf.train.FeatureList(feature=[\n",
    "        tf.train.Feature(float_list=tf.train.FloatList(value= seq_clean))]),\n",
    "    'noisy': tf.train.FeatureList(feature=[\n",
    "        tf.train.Feature(float_list=tf.train.FloatList(value= seq_noisy))])}))"
   ]
  },
  {
   "cell_type": "code",
   "execution_count": 4,
   "metadata": {},
   "outputs": [],
   "source": [
    "tf_seq_ex = tf.train.SequenceExample(feature_lists=tf.train.FeatureLists(feature_list={\n",
    "    'clean': tf.train.FeatureList(feature=[\n",
    "        tf.train.Feature(float_list=tf.train.FloatList(value=(seq))) for seq in first_seq]),\n",
    "    'noisy': tf.train.FeatureList(feature=[\n",
    "        tf.train.Feature(float_list=tf.train.FloatList(value=(seq))) for seq in second_seq])}))"
   ]
  }
 ],
 "metadata": {
  "kernelspec": {
   "display_name": "Python 3",
   "language": "python",
   "name": "python3"
  },
  "language_info": {
   "codemirror_mode": {
    "name": "ipython",
    "version": 3
   },
   "file_extension": ".py",
   "mimetype": "text/x-python",
   "name": "python",
   "nbconvert_exporter": "python",
   "pygments_lexer": "ipython3",
   "version": "3.7.6"
  }
 },
 "nbformat": 4,
 "nbformat_minor": 2
}
